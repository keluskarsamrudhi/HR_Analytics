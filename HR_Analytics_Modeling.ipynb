{
  "nbformat": 4,
  "nbformat_minor": 0,
  "metadata": {
    "colab": {
      "name": "HR_Promotion_Modeling.ipynb",
      "provenance": [],
      "collapsed_sections": []
    },
    "kernelspec": {
      "name": "python3",
      "display_name": "Python 3"
    }
  },
  "cells": [
    {
      "cell_type": "code",
      "metadata": {
        "colab": {
          "base_uri": "https://localhost:8080/"
        },
        "id": "5-0vCbTy2NoK",
        "outputId": "8cab38b2-46b6-47f2-93bc-a11cd030d116"
      },
      "source": [
        "from google.colab import drive\r\n",
        "drive.mount('/content/drive/')\r\n",
        "%cd /content/drive/My Drive/Colab Notebooks/data/VidyaAnalytics_HRAnalytics/"
      ],
      "execution_count": null,
      "outputs": [
        {
          "output_type": "stream",
          "text": [
            "Drive already mounted at /content/drive/; to attempt to forcibly remount, call drive.mount(\"/content/drive/\", force_remount=True).\n",
            "/content/drive/My Drive/Colab Notebooks/data/VidyaAnalytics_HRAnalytics\n"
          ],
          "name": "stdout"
        }
      ]
    },
    {
      "cell_type": "code",
      "metadata": {
        "colab": {
          "base_uri": "https://localhost:8080/"
        },
        "id": "KgyzU5BrNgcY",
        "outputId": "7ce9efcb-caae-454e-a35c-358ddaac2a07"
      },
      "source": [
        "# Imports\r\n",
        "\r\n",
        "!pip install scikit-learn==0.24.1 category_encoders\r\n",
        "import warnings\r\n",
        "warnings.filterwarnings('ignore')\r\n",
        "\r\n",
        "import pandas as pd\r\n",
        "from pandas import DataFrame\r\n",
        "pd.set_option(\"display.max_columns\", 300)\r\n",
        "pd.set_option(\"display.max_rows\", 300)\r\n",
        "import numpy as np\r\n",
        "import matplotlib.pyplot as plt\r\n",
        "import seaborn as sns\r\n",
        "import category_encoders as ce\r\n",
        "import time\r\n",
        "import string\r\n",
        "import re\r\n",
        "from scipy import sparse\r\n",
        "from joblib import Parallel\r\n",
        "\r\n",
        "import statsmodels.api as sm\r\n",
        "from statsmodels.stats.outliers_influence import variance_inflation_factor\r\n",
        "\r\n",
        "from sklearn.ensemble import RandomForestRegressor, RandomForestClassifier,GradientBoostingClassifier\r\n",
        "from sklearn.metrics import roc_auc_score, classification_report, confusion_matrix, precision_score, recall_score, accuracy_score, f1_score,r2_score, mean_squared_error\r\n",
        "from sklearn.linear_model import LogisticRegression,LinearRegression\r\n",
        "from sklearn.feature_selection import RFE, SelectKBest, chi2, f_classif\r\n",
        "from sklearn.preprocessing import MinMaxScaler, StandardScaler, LabelEncoder, OneHotEncoder, FunctionTransformer, RobustScaler\r\n",
        "from sklearn.model_selection import train_test_split, GridSearchCV, RandomizedSearchCV\r\n",
        "from sklearn.utils.fixes import delayed\r\n",
        "from sklearn.pipeline import Pipeline, FeatureUnion\r\n",
        "from sklearn.feature_extraction.text import TfidfVectorizer, CountVectorizer\r\n",
        "from sklearn.base import BaseEstimator, TransformerMixin"
      ],
      "execution_count": null,
      "outputs": [
        {
          "output_type": "stream",
          "text": [
            "Requirement already satisfied: scikit-learn==0.24.1 in /usr/local/lib/python3.7/dist-packages (0.24.1)\n",
            "Requirement already satisfied: joblib>=0.11 in /usr/local/lib/python3.7/dist-packages (from scikit-learn==0.24.1) (1.0.1)\n",
            "Requirement already satisfied: numpy>=1.13.3 in /usr/local/lib/python3.7/dist-packages (from scikit-learn==0.24.1) (1.19.5)\n",
            "Requirement already satisfied: threadpoolctl>=2.0.0 in /usr/local/lib/python3.7/dist-packages (from scikit-learn==0.24.1) (2.1.0)\n",
            "Requirement already satisfied: scipy>=0.19.1 in /usr/local/lib/python3.7/dist-packages (from scikit-learn==0.24.1) (1.4.1)\n",
            "Requirement already satisfied: category_encoders in /usr/local/lib/python3.7/dist-packages (2.2.2)\n",
            "Requirement already satisfied: patsy>=0.5.1 in /usr/local/lib/python3.7/dist-packages (from category_encoders) (0.5.1)\n",
            "Requirement already satisfied: scikit-learn>=0.20.0 in /usr/local/lib/python3.7/dist-packages (from category_encoders) (0.24.1)\n",
            "Requirement already satisfied: scipy>=1.0.0 in /usr/local/lib/python3.7/dist-packages (from category_encoders) (1.4.1)\n",
            "Requirement already satisfied: statsmodels>=0.9.0 in /usr/local/lib/python3.7/dist-packages (from category_encoders) (0.10.2)\n",
            "Requirement already satisfied: pandas>=0.21.1 in /usr/local/lib/python3.7/dist-packages (from category_encoders) (1.1.5)\n",
            "Requirement already satisfied: numpy>=1.14.0 in /usr/local/lib/python3.7/dist-packages (from category_encoders) (1.19.5)\n",
            "Requirement already satisfied: six in /usr/local/lib/python3.7/dist-packages (from patsy>=0.5.1->category_encoders) (1.15.0)\n",
            "Requirement already satisfied: joblib>=0.11 in /usr/local/lib/python3.7/dist-packages (from scikit-learn>=0.20.0->category_encoders) (1.0.1)\n",
            "Requirement already satisfied: threadpoolctl>=2.0.0 in /usr/local/lib/python3.7/dist-packages (from scikit-learn>=0.20.0->category_encoders) (2.1.0)\n",
            "Requirement already satisfied: python-dateutil>=2.7.3 in /usr/local/lib/python3.7/dist-packages (from pandas>=0.21.1->category_encoders) (2.8.1)\n",
            "Requirement already satisfied: pytz>=2017.2 in /usr/local/lib/python3.7/dist-packages (from pandas>=0.21.1->category_encoders) (2018.9)\n"
          ],
          "name": "stdout"
        }
      ]
    },
    {
      "cell_type": "code",
      "metadata": {
        "id": "A_9bvSYJ3_1r"
      },
      "source": [
        "# Function for printing different scores\r\n",
        "def print_scores(model, X_test, y_test, mode='Test'):\r\n",
        "  from sklearn.metrics import precision_score, recall_score, confusion_matrix, classification_report, accuracy_score, f1_score, roc_auc_score\r\n",
        "\r\n",
        "  print(f\"\\n {mode} Set ROC AUC: \".format(mode), round(roc_auc_score(y_test, model.predict_proba(X_test)[:,1]),2))\r\n",
        "  print(f'\\n Clasification Report on {mode} Set:\\n'.format(mode), classification_report(y_test,model.predict(X_test)))\r\n",
        "  print(f'\\n Confussion Matrix:\\n',confusion_matrix(y_test, model.predict(X_test)))"
      ],
      "execution_count": null,
      "outputs": []
    },
    {
      "cell_type": "code",
      "metadata": {
        "id": "V0kC73YLUulI"
      },
      "source": [
        "# Defining encoder/transformer classes\r\n",
        "\r\n",
        "class FeatureUnionPandas(FeatureUnion):\r\n",
        "\r\n",
        "    def merge_dataframes_by_column(self, Xs):\r\n",
        "        return pd.concat(Xs, axis=\"columns\", copy=False)\r\n",
        "\r\n",
        "    def transform(self, X):\r\n",
        "#         from joblib import Parallel\r\n",
        "#         from sklearn.utils.fixes import delayed\r\n",
        "       \r\n",
        "       \r\n",
        "        Xs = Parallel(n_jobs=self.n_jobs)(\r\n",
        "            delayed(pipeline._transform_one)(trans, X, None, weight)\r\n",
        "            for name, trans, weight in self._iter())\r\n",
        "        if not Xs:\r\n",
        "            # All transformers are None\r\n",
        "            return np.zeros((X.shape[0], 0))\r\n",
        "       \r\n",
        "        # print(\"Processing FeatureUnion at:\", round(time.time()/60)%1000, 'minutes')\r\n",
        "       \r\n",
        "        if any(sparse.issparse(f) for f in Xs):\r\n",
        "            Xs = sparse.hstack(Xs).tocsr()\r\n",
        "        else:\r\n",
        "            Xs = self.merge_dataframes_by_column(Xs)\r\n",
        "        return Xs\r\n",
        "   \r\n",
        "    def fit_transform(self, X, y=None, **fit_params):\r\n",
        "       \r\n",
        "        results = self._parallel_func(X, y, fit_params, pipeline._fit_transform_one)\r\n",
        "\r\n",
        "        if not results:\r\n",
        "            # All transformers are None\r\n",
        "            return np.zeros((X.shape[0], 0))\r\n",
        "       \r\n",
        "        # print(\"Processing FeatureUnion at:\", round(time.time()/60)%1000, 'minutes')\r\n",
        "       \r\n",
        "        Xs, transformers = zip(*results)\r\n",
        "       \r\n",
        "        self._update_transformer_list(transformers)\r\n",
        "       \r\n",
        "        if any(sparse.issparse(f) for f in Xs):\r\n",
        "            Xs = sparse.hstack(Xs).tocsr()\r\n",
        "        else:\r\n",
        "            Xs = self.merge_dataframes_by_column(Xs)\r\n",
        "        return Xs\r\n",
        "\r\n",
        "\r\n",
        "class RareLabelCategoricalEncoder(BaseEstimator, TransformerMixin):\r\n",
        "    \"\"\"Rare label categorical encoder\"\"\"\r\n",
        "\r\n",
        "    def __init__(self, variables=None, tol=0.001):\r\n",
        "        self.tol = tol\r\n",
        "        self.variables = variables\r\n",
        "\r\n",
        "    def fit(self, X, y=None):\r\n",
        "\r\n",
        "        if not isinstance(self.variables, list):\r\n",
        "            self.variables = sorted([self.variables])\r\n",
        "        else:\r\n",
        "            self.variables = sorted(self.variables)\r\n",
        "           \r\n",
        "        # for compatibility with ColumnTransformer\r\n",
        "        if self.variables == [None]:\r\n",
        "            self.variables = X.columns\r\n",
        "           \r\n",
        "        # persist frequent labels in dictionary\r\n",
        "        self.encoder_dict_ = {}\r\n",
        "\r\n",
        "        X = X[self.variables].copy()\r\n",
        "        for var in self.variables:\r\n",
        "            X[var] = X[var].replace(r'^\\s*$', np.nan, regex=True).fillna('ZZ').astype('str')\r\n",
        "            # the encoder will learn the most frequent categories\r\n",
        "            t = pd.Series(X[var].value_counts() / np.float(len(X)))\r\n",
        "            # frequent labels:\r\n",
        "            self.encoder_dict_[var] = list(t[t >= self.tol].index)\r\n",
        "\r\n",
        "        return self\r\n",
        "\r\n",
        "    def transform(self, X):\r\n",
        "        # print(\"Processing RareLabelCategoricalEncoder at:\", round(time.time()/60)%1000, 'minutes')\r\n",
        "       \r\n",
        "        X = X[self.variables].copy()\r\n",
        "        for feature in self.variables:\r\n",
        "            X[feature] = X[feature].replace(r'^\\s*$', np.nan, regex=True).fillna('missing_value').astype('str')\r\n",
        "            X[feature] = np.where(X[feature].isin(self.encoder_dict_[feature]), X[feature], 'Rare')\r\n",
        "        return X\r\n",
        "\r\n",
        "\r\n",
        "class StandardScalerPandas(BaseEstimator, TransformerMixin):\r\n",
        "   \r\n",
        "    def __init__(self):\r\n",
        "        None\r\n",
        "       \r\n",
        "    def fit(self, X, y=None):\r\n",
        "       \r\n",
        "        self.columns = X.columns\r\n",
        "        self.scaler = StandardScaler() #RobustScaler(unit_variance=True)\r\n",
        "        self.scaler.fit(X)\r\n",
        "       \r\n",
        "        return self\r\n",
        "   \r\n",
        "    def transform(self, X):\r\n",
        "       \r\n",
        "        X = X.copy()\r\n",
        "        index = X.index.values\r\n",
        "        X = DataFrame(self.scaler.transform(X), index = index, columns = self.columns)\r\n",
        "       \r\n",
        "        return X\r\n",
        "\r\n",
        "class num_fillna(BaseEstimator, TransformerMixin):\r\n",
        "  def __init__(self, nan_variable = None, all_num_variables = None, grpby_var= None):\r\n",
        "    self.nan_variable = nan_variable\r\n",
        "    self.all_num_variables = all_num_variables\r\n",
        "    self.grpby_var = grpby_var\r\n",
        "\r\n",
        "  def fit(self, X, y=None):\r\n",
        "    X = X[self.all_num_variables].copy()\r\n",
        "    self.X_median = X.median()\r\n",
        "    self.X_grpby = X.groupby(self.grpby_var)[[self.nan_variable]].median().reset_index()\r\n",
        "    return self\r\n",
        "\r\n",
        "  def transform(self, X):\r\n",
        "    X = X[self.all_num_variables].copy()\r\n",
        "    if self.nan_variable is not None:\r\n",
        "      for i in self.X_grpby[self.grpby_var]:\r\n",
        "        X.loc[X[self.grpby_var]==i, self.nan_variable] = X[X[self.grpby_var]==i][[self.nan_variable]].fillna(self.X_grpby[self.X_grpby[self.grpby_var] == i][self.nan_variable].values[0])\r\n",
        "    X = X.fillna(self.X_median)\r\n",
        "    return X"
      ],
      "execution_count": null,
      "outputs": []
    },
    {
      "cell_type": "code",
      "metadata": {
        "colab": {
          "base_uri": "https://localhost:8080/",
          "height": 292
        },
        "id": "y7KS5Enk-EkY",
        "outputId": "5b68af13-62dc-4b4b-aa80-d9d785e7cf43"
      },
      "source": [
        "df = pd.read_csv(\"train_set.csv\")\r\n",
        "df.head()"
      ],
      "execution_count": null,
      "outputs": [
        {
          "output_type": "execute_result",
          "data": {
            "text/html": [
              "<div>\n",
              "<style scoped>\n",
              "    .dataframe tbody tr th:only-of-type {\n",
              "        vertical-align: middle;\n",
              "    }\n",
              "\n",
              "    .dataframe tbody tr th {\n",
              "        vertical-align: top;\n",
              "    }\n",
              "\n",
              "    .dataframe thead th {\n",
              "        text-align: right;\n",
              "    }\n",
              "</style>\n",
              "<table border=\"1\" class=\"dataframe\">\n",
              "  <thead>\n",
              "    <tr style=\"text-align: right;\">\n",
              "      <th></th>\n",
              "      <th>employee_id</th>\n",
              "      <th>department</th>\n",
              "      <th>region</th>\n",
              "      <th>education</th>\n",
              "      <th>gender</th>\n",
              "      <th>recruitment_channel</th>\n",
              "      <th>no_of_trainings</th>\n",
              "      <th>age</th>\n",
              "      <th>previous_year_rating</th>\n",
              "      <th>length_of_service</th>\n",
              "      <th>KPIs_met &gt;80%</th>\n",
              "      <th>awards_won?</th>\n",
              "      <th>avg_training_score</th>\n",
              "      <th>is_promoted</th>\n",
              "    </tr>\n",
              "  </thead>\n",
              "  <tbody>\n",
              "    <tr>\n",
              "      <th>0</th>\n",
              "      <td>65438</td>\n",
              "      <td>Sales &amp; Marketing</td>\n",
              "      <td>region_7</td>\n",
              "      <td>Master's &amp; above</td>\n",
              "      <td>f</td>\n",
              "      <td>sourcing</td>\n",
              "      <td>1</td>\n",
              "      <td>35</td>\n",
              "      <td>5.0</td>\n",
              "      <td>8</td>\n",
              "      <td>1</td>\n",
              "      <td>0</td>\n",
              "      <td>49</td>\n",
              "      <td>0</td>\n",
              "    </tr>\n",
              "    <tr>\n",
              "      <th>1</th>\n",
              "      <td>65141</td>\n",
              "      <td>Operations</td>\n",
              "      <td>region_22</td>\n",
              "      <td>Bachelor's</td>\n",
              "      <td>m</td>\n",
              "      <td>other</td>\n",
              "      <td>1</td>\n",
              "      <td>30</td>\n",
              "      <td>5.0</td>\n",
              "      <td>4</td>\n",
              "      <td>0</td>\n",
              "      <td>0</td>\n",
              "      <td>60</td>\n",
              "      <td>0</td>\n",
              "    </tr>\n",
              "    <tr>\n",
              "      <th>2</th>\n",
              "      <td>7513</td>\n",
              "      <td>Sales &amp; Marketing</td>\n",
              "      <td>region_19</td>\n",
              "      <td>Bachelor's</td>\n",
              "      <td>m</td>\n",
              "      <td>sourcing</td>\n",
              "      <td>1</td>\n",
              "      <td>34</td>\n",
              "      <td>3.0</td>\n",
              "      <td>7</td>\n",
              "      <td>0</td>\n",
              "      <td>0</td>\n",
              "      <td>50</td>\n",
              "      <td>0</td>\n",
              "    </tr>\n",
              "    <tr>\n",
              "      <th>3</th>\n",
              "      <td>2542</td>\n",
              "      <td>Sales &amp; Marketing</td>\n",
              "      <td>region_23</td>\n",
              "      <td>Bachelor's</td>\n",
              "      <td>m</td>\n",
              "      <td>other</td>\n",
              "      <td>2</td>\n",
              "      <td>39</td>\n",
              "      <td>1.0</td>\n",
              "      <td>10</td>\n",
              "      <td>0</td>\n",
              "      <td>0</td>\n",
              "      <td>50</td>\n",
              "      <td>0</td>\n",
              "    </tr>\n",
              "    <tr>\n",
              "      <th>4</th>\n",
              "      <td>48945</td>\n",
              "      <td>Technology</td>\n",
              "      <td>region_26</td>\n",
              "      <td>Bachelor's</td>\n",
              "      <td>m</td>\n",
              "      <td>other</td>\n",
              "      <td>1</td>\n",
              "      <td>45</td>\n",
              "      <td>3.0</td>\n",
              "      <td>2</td>\n",
              "      <td>0</td>\n",
              "      <td>0</td>\n",
              "      <td>73</td>\n",
              "      <td>0</td>\n",
              "    </tr>\n",
              "  </tbody>\n",
              "</table>\n",
              "</div>"
            ],
            "text/plain": [
              "   employee_id         department     region         education gender  \\\n",
              "0        65438  Sales & Marketing   region_7  Master's & above      f   \n",
              "1        65141         Operations  region_22        Bachelor's      m   \n",
              "2         7513  Sales & Marketing  region_19        Bachelor's      m   \n",
              "3         2542  Sales & Marketing  region_23        Bachelor's      m   \n",
              "4        48945         Technology  region_26        Bachelor's      m   \n",
              "\n",
              "  recruitment_channel  no_of_trainings  age  previous_year_rating  \\\n",
              "0            sourcing                1   35                   5.0   \n",
              "1               other                1   30                   5.0   \n",
              "2            sourcing                1   34                   3.0   \n",
              "3               other                2   39                   1.0   \n",
              "4               other                1   45                   3.0   \n",
              "\n",
              "   length_of_service  KPIs_met >80%  awards_won?  avg_training_score  \\\n",
              "0                  8              1            0                  49   \n",
              "1                  4              0            0                  60   \n",
              "2                  7              0            0                  50   \n",
              "3                 10              0            0                  50   \n",
              "4                  2              0            0                  73   \n",
              "\n",
              "   is_promoted  \n",
              "0            0  \n",
              "1            0  \n",
              "2            0  \n",
              "3            0  \n",
              "4            0  "
            ]
          },
          "metadata": {
            "tags": []
          },
          "execution_count": 29
        }
      ]
    },
    {
      "cell_type": "code",
      "metadata": {
        "colab": {
          "base_uri": "https://localhost:8080/"
        },
        "id": "Vhs1XLK7Hcl9",
        "outputId": "f6226706-e9e7-4a3c-ca3a-e45c364242dc"
      },
      "source": [
        "df.info()"
      ],
      "execution_count": null,
      "outputs": [
        {
          "output_type": "stream",
          "text": [
            "<class 'pandas.core.frame.DataFrame'>\n",
            "RangeIndex: 54808 entries, 0 to 54807\n",
            "Data columns (total 14 columns):\n",
            " #   Column                Non-Null Count  Dtype  \n",
            "---  ------                --------------  -----  \n",
            " 0   employee_id           54808 non-null  int64  \n",
            " 1   department            54808 non-null  object \n",
            " 2   region                54808 non-null  object \n",
            " 3   education             52399 non-null  object \n",
            " 4   gender                54808 non-null  object \n",
            " 5   recruitment_channel   54808 non-null  object \n",
            " 6   no_of_trainings       54808 non-null  int64  \n",
            " 7   age                   54808 non-null  int64  \n",
            " 8   previous_year_rating  50684 non-null  float64\n",
            " 9   length_of_service     54808 non-null  int64  \n",
            " 10  KPIs_met >80%         54808 non-null  int64  \n",
            " 11  awards_won?           54808 non-null  int64  \n",
            " 12  avg_training_score    54808 non-null  int64  \n",
            " 13  is_promoted           54808 non-null  int64  \n",
            "dtypes: float64(1), int64(8), object(5)\n",
            "memory usage: 5.9+ MB\n"
          ],
          "name": "stdout"
        }
      ]
    },
    {
      "cell_type": "code",
      "metadata": {
        "colab": {
          "base_uri": "https://localhost:8080/",
          "height": 421
        },
        "id": "-XT9S21gISz3",
        "outputId": "cda7e8c0-e9f0-4348-f412-71939c9e85ad"
      },
      "source": [
        "df.describe([0.01, 0.1, 0.25, 0.5, 0.75, 0.9, 0.99])"
      ],
      "execution_count": null,
      "outputs": [
        {
          "output_type": "execute_result",
          "data": {
            "text/html": [
              "<div>\n",
              "<style scoped>\n",
              "    .dataframe tbody tr th:only-of-type {\n",
              "        vertical-align: middle;\n",
              "    }\n",
              "\n",
              "    .dataframe tbody tr th {\n",
              "        vertical-align: top;\n",
              "    }\n",
              "\n",
              "    .dataframe thead th {\n",
              "        text-align: right;\n",
              "    }\n",
              "</style>\n",
              "<table border=\"1\" class=\"dataframe\">\n",
              "  <thead>\n",
              "    <tr style=\"text-align: right;\">\n",
              "      <th></th>\n",
              "      <th>employee_id</th>\n",
              "      <th>no_of_trainings</th>\n",
              "      <th>age</th>\n",
              "      <th>previous_year_rating</th>\n",
              "      <th>length_of_service</th>\n",
              "      <th>KPIs_met &gt;80%</th>\n",
              "      <th>awards_won?</th>\n",
              "      <th>avg_training_score</th>\n",
              "      <th>is_promoted</th>\n",
              "    </tr>\n",
              "  </thead>\n",
              "  <tbody>\n",
              "    <tr>\n",
              "      <th>count</th>\n",
              "      <td>54808.000000</td>\n",
              "      <td>54808.000000</td>\n",
              "      <td>54808.000000</td>\n",
              "      <td>50684.000000</td>\n",
              "      <td>54808.000000</td>\n",
              "      <td>54808.000000</td>\n",
              "      <td>54808.000000</td>\n",
              "      <td>54808.000000</td>\n",
              "      <td>54808.000000</td>\n",
              "    </tr>\n",
              "    <tr>\n",
              "      <th>mean</th>\n",
              "      <td>39195.830627</td>\n",
              "      <td>1.253011</td>\n",
              "      <td>34.803915</td>\n",
              "      <td>3.329256</td>\n",
              "      <td>5.865512</td>\n",
              "      <td>0.351974</td>\n",
              "      <td>0.023172</td>\n",
              "      <td>63.386750</td>\n",
              "      <td>0.085170</td>\n",
              "    </tr>\n",
              "    <tr>\n",
              "      <th>std</th>\n",
              "      <td>22586.581449</td>\n",
              "      <td>0.609264</td>\n",
              "      <td>7.660169</td>\n",
              "      <td>1.259993</td>\n",
              "      <td>4.265094</td>\n",
              "      <td>0.477590</td>\n",
              "      <td>0.150450</td>\n",
              "      <td>13.371559</td>\n",
              "      <td>0.279137</td>\n",
              "    </tr>\n",
              "    <tr>\n",
              "      <th>min</th>\n",
              "      <td>1.000000</td>\n",
              "      <td>1.000000</td>\n",
              "      <td>20.000000</td>\n",
              "      <td>1.000000</td>\n",
              "      <td>1.000000</td>\n",
              "      <td>0.000000</td>\n",
              "      <td>0.000000</td>\n",
              "      <td>39.000000</td>\n",
              "      <td>0.000000</td>\n",
              "    </tr>\n",
              "    <tr>\n",
              "      <th>1%</th>\n",
              "      <td>795.070000</td>\n",
              "      <td>1.000000</td>\n",
              "      <td>23.000000</td>\n",
              "      <td>1.000000</td>\n",
              "      <td>1.000000</td>\n",
              "      <td>0.000000</td>\n",
              "      <td>0.000000</td>\n",
              "      <td>44.000000</td>\n",
              "      <td>0.000000</td>\n",
              "    </tr>\n",
              "    <tr>\n",
              "      <th>10%</th>\n",
              "      <td>7849.700000</td>\n",
              "      <td>1.000000</td>\n",
              "      <td>27.000000</td>\n",
              "      <td>1.000000</td>\n",
              "      <td>2.000000</td>\n",
              "      <td>0.000000</td>\n",
              "      <td>0.000000</td>\n",
              "      <td>48.000000</td>\n",
              "      <td>0.000000</td>\n",
              "    </tr>\n",
              "    <tr>\n",
              "      <th>25%</th>\n",
              "      <td>19669.750000</td>\n",
              "      <td>1.000000</td>\n",
              "      <td>29.000000</td>\n",
              "      <td>3.000000</td>\n",
              "      <td>3.000000</td>\n",
              "      <td>0.000000</td>\n",
              "      <td>0.000000</td>\n",
              "      <td>51.000000</td>\n",
              "      <td>0.000000</td>\n",
              "    </tr>\n",
              "    <tr>\n",
              "      <th>50%</th>\n",
              "      <td>39225.500000</td>\n",
              "      <td>1.000000</td>\n",
              "      <td>33.000000</td>\n",
              "      <td>3.000000</td>\n",
              "      <td>5.000000</td>\n",
              "      <td>0.000000</td>\n",
              "      <td>0.000000</td>\n",
              "      <td>60.000000</td>\n",
              "      <td>0.000000</td>\n",
              "    </tr>\n",
              "    <tr>\n",
              "      <th>75%</th>\n",
              "      <td>58730.500000</td>\n",
              "      <td>1.000000</td>\n",
              "      <td>39.000000</td>\n",
              "      <td>4.000000</td>\n",
              "      <td>7.000000</td>\n",
              "      <td>1.000000</td>\n",
              "      <td>0.000000</td>\n",
              "      <td>76.000000</td>\n",
              "      <td>0.000000</td>\n",
              "    </tr>\n",
              "    <tr>\n",
              "      <th>90%</th>\n",
              "      <td>70459.300000</td>\n",
              "      <td>2.000000</td>\n",
              "      <td>46.000000</td>\n",
              "      <td>5.000000</td>\n",
              "      <td>11.000000</td>\n",
              "      <td>1.000000</td>\n",
              "      <td>0.000000</td>\n",
              "      <td>83.000000</td>\n",
              "      <td>0.000000</td>\n",
              "    </tr>\n",
              "    <tr>\n",
              "      <th>99%</th>\n",
              "      <td>77509.930000</td>\n",
              "      <td>4.000000</td>\n",
              "      <td>58.000000</td>\n",
              "      <td>5.000000</td>\n",
              "      <td>20.000000</td>\n",
              "      <td>1.000000</td>\n",
              "      <td>1.000000</td>\n",
              "      <td>91.000000</td>\n",
              "      <td>1.000000</td>\n",
              "    </tr>\n",
              "    <tr>\n",
              "      <th>max</th>\n",
              "      <td>78298.000000</td>\n",
              "      <td>10.000000</td>\n",
              "      <td>60.000000</td>\n",
              "      <td>5.000000</td>\n",
              "      <td>37.000000</td>\n",
              "      <td>1.000000</td>\n",
              "      <td>1.000000</td>\n",
              "      <td>99.000000</td>\n",
              "      <td>1.000000</td>\n",
              "    </tr>\n",
              "  </tbody>\n",
              "</table>\n",
              "</div>"
            ],
            "text/plain": [
              "        employee_id  no_of_trainings           age  previous_year_rating  \\\n",
              "count  54808.000000     54808.000000  54808.000000          50684.000000   \n",
              "mean   39195.830627         1.253011     34.803915              3.329256   \n",
              "std    22586.581449         0.609264      7.660169              1.259993   \n",
              "min        1.000000         1.000000     20.000000              1.000000   \n",
              "1%       795.070000         1.000000     23.000000              1.000000   \n",
              "10%     7849.700000         1.000000     27.000000              1.000000   \n",
              "25%    19669.750000         1.000000     29.000000              3.000000   \n",
              "50%    39225.500000         1.000000     33.000000              3.000000   \n",
              "75%    58730.500000         1.000000     39.000000              4.000000   \n",
              "90%    70459.300000         2.000000     46.000000              5.000000   \n",
              "99%    77509.930000         4.000000     58.000000              5.000000   \n",
              "max    78298.000000        10.000000     60.000000              5.000000   \n",
              "\n",
              "       length_of_service  KPIs_met >80%   awards_won?  avg_training_score  \\\n",
              "count       54808.000000   54808.000000  54808.000000        54808.000000   \n",
              "mean            5.865512       0.351974      0.023172           63.386750   \n",
              "std             4.265094       0.477590      0.150450           13.371559   \n",
              "min             1.000000       0.000000      0.000000           39.000000   \n",
              "1%              1.000000       0.000000      0.000000           44.000000   \n",
              "10%             2.000000       0.000000      0.000000           48.000000   \n",
              "25%             3.000000       0.000000      0.000000           51.000000   \n",
              "50%             5.000000       0.000000      0.000000           60.000000   \n",
              "75%             7.000000       1.000000      0.000000           76.000000   \n",
              "90%            11.000000       1.000000      0.000000           83.000000   \n",
              "99%            20.000000       1.000000      1.000000           91.000000   \n",
              "max            37.000000       1.000000      1.000000           99.000000   \n",
              "\n",
              "        is_promoted  \n",
              "count  54808.000000  \n",
              "mean       0.085170  \n",
              "std        0.279137  \n",
              "min        0.000000  \n",
              "1%         0.000000  \n",
              "10%        0.000000  \n",
              "25%        0.000000  \n",
              "50%        0.000000  \n",
              "75%        0.000000  \n",
              "90%        0.000000  \n",
              "99%        1.000000  \n",
              "max        1.000000  "
            ]
          },
          "metadata": {
            "tags": []
          },
          "execution_count": 31
        }
      ]
    },
    {
      "cell_type": "code",
      "metadata": {
        "colab": {
          "base_uri": "https://localhost:8080/"
        },
        "id": "UriA2hLrI6t6",
        "outputId": "8e4a3b2e-b6ab-4ec7-b7f2-248a578c7769"
      },
      "source": [
        "df.isnull().mean().sort_values(ascending = False)*100"
      ],
      "execution_count": null,
      "outputs": [
        {
          "output_type": "execute_result",
          "data": {
            "text/plain": [
              "previous_year_rating    7.524449\n",
              "education               4.395344\n",
              "is_promoted             0.000000\n",
              "avg_training_score      0.000000\n",
              "awards_won?             0.000000\n",
              "KPIs_met >80%           0.000000\n",
              "length_of_service       0.000000\n",
              "age                     0.000000\n",
              "no_of_trainings         0.000000\n",
              "recruitment_channel     0.000000\n",
              "gender                  0.000000\n",
              "region                  0.000000\n",
              "department              0.000000\n",
              "employee_id             0.000000\n",
              "dtype: float64"
            ]
          },
          "metadata": {
            "tags": []
          },
          "execution_count": 32
        }
      ]
    },
    {
      "cell_type": "code",
      "metadata": {
        "id": "afO-Y_ClRp8M"
      },
      "source": [
        "df1 = df.drop(\"employee_id\",axis = 1)"
      ],
      "execution_count": null,
      "outputs": []
    },
    {
      "cell_type": "code",
      "metadata": {
        "id": "syQGDX3rQTQ3"
      },
      "source": [
        "# Creating Pipelines\r\n",
        "\r\n",
        "num_cols = ['no_of_trainings', 'age', 'previous_year_rating', 'length_of_service', 'avg_training_score']\r\n",
        "cat_cols = ['department', 'region', 'education', 'gender', 'recruitment_channel', 'KPIs_met >80%', 'awards_won?']\r\n",
        "\r\n",
        "num_pipe = Pipeline([('num_fill_na', num_fillna(nan_variable = \"previous_year_rating\",all_num_variables = num_cols, grpby_var = 'length_of_service')),\r\n",
        "                     ('num_standard_scaler', StandardScalerPandas())\r\n",
        "                     ])\r\n",
        "\r\n",
        "# num_fillna(nan_variable = None, all_num_variables = None, grpby_var= None)\r\n",
        "\r\n",
        "\r\n",
        "cat_pipe = Pipeline([('rare_label_encoder', RareLabelCategoricalEncoder(variables=cat_cols)),\r\n",
        "                     ('woe_encoder', ce.WOEEncoder(cols=cat_cols, return_df=True)),\r\n",
        "                     ('cat_standard_scaler', StandardScalerPandas())\r\n",
        "                    ])\r\n",
        "\r\n",
        "combined_pipe = FeatureUnionPandas([('num', num_pipe),\r\n",
        "                                    ('cat', cat_pipe)])"
      ],
      "execution_count": null,
      "outputs": []
    },
    {
      "cell_type": "markdown",
      "metadata": {
        "id": "HeTcwCPk5VU1"
      },
      "source": [
        "# Splitting into Train and Test Set"
      ]
    },
    {
      "cell_type": "code",
      "metadata": {
        "id": "ySG85Uvu3jBI"
      },
      "source": [
        "# Putting feature variables in X\r\n",
        "X = df1.drop([\"is_promoted\"], axis=1)\r\n",
        "\r\n",
        "# Putting response variable in y\r\n",
        "y = df1[\"is_promoted\"]\r\n",
        "\r\n",
        "# Splitting the data into train and test set\r\n",
        "X_train, X_test, y_train, y_test = train_test_split(X, y, test_size=0.3, random_state = 100)"
      ],
      "execution_count": null,
      "outputs": []
    },
    {
      "cell_type": "code",
      "metadata": {
        "id": "eQTrzoTj3x6W"
      },
      "source": [
        "X_train_processed = combined_pipe.fit_transform(X_train,y_train)\r\n",
        "X_test_processed = combined_pipe.transform(X_test)"
      ],
      "execution_count": null,
      "outputs": []
    },
    {
      "cell_type": "code",
      "metadata": {
        "colab": {
          "base_uri": "https://localhost:8080/",
          "height": 241
        },
        "id": "TwSM7T0HS3oq",
        "outputId": "218601b4-c6ca-4c37-b5b4-fdb9d458cac8"
      },
      "source": [
        "# Processed X_train\r\n",
        "X_train_processed.head()"
      ],
      "execution_count": null,
      "outputs": [
        {
          "output_type": "execute_result",
          "data": {
            "text/html": [
              "<div>\n",
              "<style scoped>\n",
              "    .dataframe tbody tr th:only-of-type {\n",
              "        vertical-align: middle;\n",
              "    }\n",
              "\n",
              "    .dataframe tbody tr th {\n",
              "        vertical-align: top;\n",
              "    }\n",
              "\n",
              "    .dataframe thead th {\n",
              "        text-align: right;\n",
              "    }\n",
              "</style>\n",
              "<table border=\"1\" class=\"dataframe\">\n",
              "  <thead>\n",
              "    <tr style=\"text-align: right;\">\n",
              "      <th></th>\n",
              "      <th>no_of_trainings</th>\n",
              "      <th>age</th>\n",
              "      <th>previous_year_rating</th>\n",
              "      <th>length_of_service</th>\n",
              "      <th>avg_training_score</th>\n",
              "      <th>KPIs_met &gt;80%</th>\n",
              "      <th>awards_won?</th>\n",
              "      <th>department</th>\n",
              "      <th>education</th>\n",
              "      <th>gender</th>\n",
              "      <th>recruitment_channel</th>\n",
              "      <th>region</th>\n",
              "    </tr>\n",
              "  </thead>\n",
              "  <tbody>\n",
              "    <tr>\n",
              "      <th>41184</th>\n",
              "      <td>-0.415152</td>\n",
              "      <td>-1.149387</td>\n",
              "      <td>-0.250556</td>\n",
              "      <td>-0.902695</td>\n",
              "      <td>-0.326959</td>\n",
              "      <td>-0.737471</td>\n",
              "      <td>-0.152415</td>\n",
              "      <td>0.320383</td>\n",
              "      <td>-0.229638</td>\n",
              "      <td>1.534235</td>\n",
              "      <td>0.078409</td>\n",
              "      <td>1.901683</td>\n",
              "    </tr>\n",
              "    <tr>\n",
              "      <th>13041</th>\n",
              "      <td>-0.415152</td>\n",
              "      <td>0.677468</td>\n",
              "      <td>-0.250556</td>\n",
              "      <td>0.494560</td>\n",
              "      <td>1.543637</td>\n",
              "      <td>-0.737471</td>\n",
              "      <td>-0.152415</td>\n",
              "      <td>0.824509</td>\n",
              "      <td>1.163155</td>\n",
              "      <td>-0.651791</td>\n",
              "      <td>0.078409</td>\n",
              "      <td>-0.857807</td>\n",
              "    </tr>\n",
              "    <tr>\n",
              "      <th>40396</th>\n",
              "      <td>-0.415152</td>\n",
              "      <td>0.546978</td>\n",
              "      <td>1.394590</td>\n",
              "      <td>1.193187</td>\n",
              "      <td>-1.524140</td>\n",
              "      <td>-0.737471</td>\n",
              "      <td>-0.152415</td>\n",
              "      <td>-0.816642</td>\n",
              "      <td>1.163155</td>\n",
              "      <td>1.534235</td>\n",
              "      <td>-0.308972</td>\n",
              "      <td>1.901683</td>\n",
              "    </tr>\n",
              "    <tr>\n",
              "      <th>42434</th>\n",
              "      <td>1.220095</td>\n",
              "      <td>0.025020</td>\n",
              "      <td>1.394590</td>\n",
              "      <td>0.960311</td>\n",
              "      <td>-0.177311</td>\n",
              "      <td>-0.737471</td>\n",
              "      <td>-0.152415</td>\n",
              "      <td>0.320383</td>\n",
              "      <td>-0.229638</td>\n",
              "      <td>-0.651791</td>\n",
              "      <td>-0.308972</td>\n",
              "      <td>-0.063537</td>\n",
              "    </tr>\n",
              "    <tr>\n",
              "      <th>54002</th>\n",
              "      <td>-0.415152</td>\n",
              "      <td>-0.496939</td>\n",
              "      <td>-0.250556</td>\n",
              "      <td>-0.436943</td>\n",
              "      <td>-0.102487</td>\n",
              "      <td>-0.737471</td>\n",
              "      <td>-0.152415</td>\n",
              "      <td>0.320383</td>\n",
              "      <td>-0.229638</td>\n",
              "      <td>-0.651791</td>\n",
              "      <td>-0.308972</td>\n",
              "      <td>-2.003473</td>\n",
              "    </tr>\n",
              "  </tbody>\n",
              "</table>\n",
              "</div>"
            ],
            "text/plain": [
              "       no_of_trainings       age  previous_year_rating  length_of_service  \\\n",
              "41184        -0.415152 -1.149387             -0.250556          -0.902695   \n",
              "13041        -0.415152  0.677468             -0.250556           0.494560   \n",
              "40396        -0.415152  0.546978              1.394590           1.193187   \n",
              "42434         1.220095  0.025020              1.394590           0.960311   \n",
              "54002        -0.415152 -0.496939             -0.250556          -0.436943   \n",
              "\n",
              "       avg_training_score  KPIs_met >80%  awards_won?  department  education  \\\n",
              "41184           -0.326959      -0.737471    -0.152415    0.320383  -0.229638   \n",
              "13041            1.543637      -0.737471    -0.152415    0.824509   1.163155   \n",
              "40396           -1.524140      -0.737471    -0.152415   -0.816642   1.163155   \n",
              "42434           -0.177311      -0.737471    -0.152415    0.320383  -0.229638   \n",
              "54002           -0.102487      -0.737471    -0.152415    0.320383  -0.229638   \n",
              "\n",
              "         gender  recruitment_channel    region  \n",
              "41184  1.534235             0.078409  1.901683  \n",
              "13041 -0.651791             0.078409 -0.857807  \n",
              "40396  1.534235            -0.308972  1.901683  \n",
              "42434 -0.651791            -0.308972 -0.063537  \n",
              "54002 -0.651791            -0.308972 -2.003473  "
            ]
          },
          "metadata": {
            "tags": []
          },
          "execution_count": 38
        }
      ]
    },
    {
      "cell_type": "markdown",
      "metadata": {
        "id": "rvgcQgT0S6ud"
      },
      "source": [
        "# Random Forest without Grid Search"
      ]
    },
    {
      "cell_type": "code",
      "metadata": {
        "colab": {
          "base_uri": "https://localhost:8080/"
        },
        "id": "n6YyvgxXTAK-",
        "outputId": "b23dfe54-6e0a-4a5a-a99f-f6c1619d1209"
      },
      "source": [
        "# Instantiating Random Forest \r\n",
        "\r\n",
        "rf = RandomForestClassifier()\r\n",
        "rf.fit(X_train_processed, y_train)"
      ],
      "execution_count": null,
      "outputs": [
        {
          "output_type": "execute_result",
          "data": {
            "text/plain": [
              "RandomForestClassifier()"
            ]
          },
          "metadata": {
            "tags": []
          },
          "execution_count": 39
        }
      ]
    },
    {
      "cell_type": "code",
      "metadata": {
        "colab": {
          "base_uri": "https://localhost:8080/"
        },
        "id": "TPRZagjcTDCj",
        "outputId": "ccb226b8-6ae7-444a-c73a-ec9f69c82301"
      },
      "source": [
        "print_scores(rf, X_train_processed, y_train, mode='Train')"
      ],
      "execution_count": null,
      "outputs": [
        {
          "output_type": "stream",
          "text": [
            "\n",
            " Train Set ROC AUC:  1.0\n",
            "\n",
            " Clasification Report on Train Set:\n",
            "               precision    recall  f1-score   support\n",
            "\n",
            "           0       1.00      1.00      1.00     35121\n",
            "           1       1.00      1.00      1.00      3244\n",
            "\n",
            "    accuracy                           1.00     38365\n",
            "   macro avg       1.00      1.00      1.00     38365\n",
            "weighted avg       1.00      1.00      1.00     38365\n",
            "\n",
            "\n",
            " Confussion Matrix:\n",
            " [[35119     2]\n",
            " [    4  3240]]\n"
          ],
          "name": "stdout"
        }
      ]
    },
    {
      "cell_type": "code",
      "metadata": {
        "colab": {
          "base_uri": "https://localhost:8080/"
        },
        "id": "XU1NFwquTSq1",
        "outputId": "731f1518-ebc7-4a13-a5a8-ad11a828e4c8"
      },
      "source": [
        "print_scores(rf, X_test_processed, y_test, mode='Test')"
      ],
      "execution_count": null,
      "outputs": [
        {
          "output_type": "stream",
          "text": [
            "\n",
            " Test Set ROC AUC:  0.88\n",
            "\n",
            " Clasification Report on Test Set:\n",
            "               precision    recall  f1-score   support\n",
            "\n",
            "           0       0.94      0.99      0.97     15019\n",
            "           1       0.84      0.30      0.44      1424\n",
            "\n",
            "    accuracy                           0.93     16443\n",
            "   macro avg       0.89      0.65      0.70     16443\n",
            "weighted avg       0.93      0.93      0.92     16443\n",
            "\n",
            "\n",
            " Confussion Matrix:\n",
            " [[14938    81]\n",
            " [  996   428]]\n"
          ],
          "name": "stdout"
        }
      ]
    },
    {
      "cell_type": "markdown",
      "metadata": {
        "id": "1-3iF70OTYD6"
      },
      "source": [
        "The clasification report of Random Forest model without Grid Search is shown above. Let's check out the results for Random Forest model with Grid Search next."
      ]
    },
    {
      "cell_type": "markdown",
      "metadata": {
        "id": "N7ni9KUsahLr"
      },
      "source": [
        "#Gradient Boosting"
      ]
    },
    {
      "cell_type": "code",
      "metadata": {
        "colab": {
          "base_uri": "https://localhost:8080/"
        },
        "id": "GlVlevjhTTwS",
        "outputId": "287ff72a-fc4b-4ab6-ec34-f3a17d185091"
      },
      "source": [
        "# Instantiating Gradient Boosting \r\n",
        "\r\n",
        "gb = GradientBoostingClassifier(n_iter_no_change = 10, validation_fraction = 0.2, random_state=0)\r\n",
        "gb.fit(X_train_processed, y_train)"
      ],
      "execution_count": null,
      "outputs": [
        {
          "output_type": "execute_result",
          "data": {
            "text/plain": [
              "GradientBoostingClassifier(n_iter_no_change=10, random_state=0,\n",
              "                           validation_fraction=0.2)"
            ]
          },
          "metadata": {
            "tags": []
          },
          "execution_count": 42
        }
      ]
    },
    {
      "cell_type": "code",
      "metadata": {
        "colab": {
          "base_uri": "https://localhost:8080/"
        },
        "id": "9BI3WBCTJn_w",
        "outputId": "b4008924-e88b-44b2-8855-e4845471dafb"
      },
      "source": [
        "print_scores(gb, X_train_processed, y_train, mode='Train')"
      ],
      "execution_count": null,
      "outputs": [
        {
          "output_type": "stream",
          "text": [
            "\n",
            " Train Set ROC AUC:  0.91\n",
            "\n",
            " Clasification Report on Train Set:\n",
            "               precision    recall  f1-score   support\n",
            "\n",
            "           0       0.94      1.00      0.97     35121\n",
            "           1       0.95      0.29      0.44      3244\n",
            "\n",
            "    accuracy                           0.94     38365\n",
            "   macro avg       0.95      0.64      0.70     38365\n",
            "weighted avg       0.94      0.94      0.92     38365\n",
            "\n",
            "\n",
            " Confussion Matrix:\n",
            " [[35075    46]\n",
            " [ 2312   932]]\n"
          ],
          "name": "stdout"
        }
      ]
    },
    {
      "cell_type": "code",
      "metadata": {
        "colab": {
          "base_uri": "https://localhost:8080/"
        },
        "id": "9xmI53aeJqeL",
        "outputId": "9c4c1cf7-319b-44e1-8f1d-f49cfbb61978"
      },
      "source": [
        "print_scores(gb, X_test_processed, y_test, mode='Test')"
      ],
      "execution_count": null,
      "outputs": [
        {
          "output_type": "stream",
          "text": [
            "\n",
            " Test Set ROC AUC:  0.91\n",
            "\n",
            " Clasification Report on Test Set:\n",
            "               precision    recall  f1-score   support\n",
            "\n",
            "           0       0.94      1.00      0.97     15019\n",
            "           1       0.94      0.29      0.44      1424\n",
            "\n",
            "    accuracy                           0.94     16443\n",
            "   macro avg       0.94      0.64      0.70     16443\n",
            "weighted avg       0.94      0.94      0.92     16443\n",
            "\n",
            "\n",
            " Confussion Matrix:\n",
            " [[14994    25]\n",
            " [ 1012   412]]\n"
          ],
          "name": "stdout"
        }
      ]
    },
    {
      "cell_type": "markdown",
      "metadata": {
        "id": "yCqVNLvRTbL4"
      },
      "source": [
        "# Gradient Boosting with Grid Search"
      ]
    },
    {
      "cell_type": "code",
      "metadata": {
        "colab": {
          "base_uri": "https://localhost:8080/"
        },
        "id": "gDiETxqUHxlg",
        "outputId": "71b57355-fa99-4c98-bbec-212044c1c290"
      },
      "source": [
        "# GridSearchCV\r\n",
        "\r\n",
        "hyper_params_cv_gb = {# 'max_depth': [5, 25, 50, 100],\r\n",
        "                'max_features': [0.25, 0.5, 0.75],\r\n",
        "                'min_samples_leaf': [3, 7, 11, 15],\r\n",
        "                'n_estimators': [500, 1000, 2000]\r\n",
        "               }\r\n",
        "\r\n",
        "\r\n",
        "model_cv_gb = GridSearchCV(estimator=GradientBoostingClassifier(random_state=0), \r\n",
        "             param_grid=hyper_params_cv_gb,\r\n",
        "             verbose=1,\r\n",
        "             cv=5, \r\n",
        "             scoring = \"f1\",\r\n",
        "             n_jobs = -1\r\n",
        "            #  return_train_score=True\r\n",
        "            )\r\n",
        "\r\n",
        "model_cv_gb.fit(X_train_processed, y_train)\r\n",
        "\r\n",
        "print(model_cv_gb.best_estimator_)"
      ],
      "execution_count": null,
      "outputs": [
        {
          "output_type": "stream",
          "text": [
            "Fitting 5 folds for each of 36 candidates, totalling 180 fits\n",
            "GradientBoostingClassifier(max_features=0.75, min_samples_leaf=3,\n",
            "                           n_estimators=1000, random_state=0)\n"
          ],
          "name": "stdout"
        }
      ]
    },
    {
      "cell_type": "code",
      "metadata": {
        "colab": {
          "base_uri": "https://localhost:8080/"
        },
        "id": "b8wUuuHLTl1R",
        "outputId": "ee047958-0289-4686-bc44-fb17d9465e63"
      },
      "source": [
        "print('F1 Score: ', round(model_cv_gb.best_score_,2))\r\n",
        "\r\n",
        "print_scores(model_cv_gb, X_train_processed, y_train, mode='Train')\r\n",
        "\r\n",
        "print_scores(model_cv_gb, X_test_processed, y_test, mode='Test')"
      ],
      "execution_count": null,
      "outputs": [
        {
          "output_type": "stream",
          "text": [
            "F1 Score:  0.5\n",
            "\n",
            " Train Set ROC AUC:  0.94\n",
            "\n",
            " Clasification Report on Train Set:\n",
            "               precision    recall  f1-score   support\n",
            "\n",
            "           0       0.95      1.00      0.97     35121\n",
            "           1       0.96      0.38      0.55      3244\n",
            "\n",
            "    accuracy                           0.95     38365\n",
            "   macro avg       0.95      0.69      0.76     38365\n",
            "weighted avg       0.95      0.95      0.94     38365\n",
            "\n",
            "\n",
            " Confussion Matrix:\n",
            " [[35075    46]\n",
            " [ 2010  1234]]\n",
            "\n",
            " Test Set ROC AUC:  0.91\n",
            "\n",
            " Clasification Report on Test Set:\n",
            "               precision    recall  f1-score   support\n",
            "\n",
            "           0       0.94      1.00      0.97     15019\n",
            "           1       0.92      0.37      0.52      1424\n",
            "\n",
            "    accuracy                           0.94     16443\n",
            "   macro avg       0.93      0.68      0.75     16443\n",
            "weighted avg       0.94      0.94      0.93     16443\n",
            "\n",
            "\n",
            " Confussion Matrix:\n",
            " [[14972    47]\n",
            " [  904   520]]\n"
          ],
          "name": "stdout"
        }
      ]
    },
    {
      "cell_type": "code",
      "metadata": {
        "colab": {
          "base_uri": "https://localhost:8080/",
          "height": 513
        },
        "id": "GX9doT_oTonq",
        "outputId": "bb0f4a8e-c3e3-4ea7-d033-6038cdc2e1fb"
      },
      "source": [
        "# Feature Importances\r\n",
        "\r\n",
        "features = X_train_processed.columns\r\n",
        "importances = model_cv_gb.best_estimator_.feature_importances_\r\n",
        "indices = np.argsort(importances)[-15:]\r\n",
        "\r\n",
        "plt.figure(figsize=(16,8))\r\n",
        "plt.title('Feature Importances')\r\n",
        "plt.barh(range(len(indices)), importances[indices], color='b', align='center')\r\n",
        "plt.yticks(range(len(indices)), [features[i] for i in indices])\r\n",
        "plt.xlabel('Relative Importance')\r\n",
        "plt.show()"
      ],
      "execution_count": null,
      "outputs": [
        {
          "output_type": "display_data",
          "data": {
            "image/png": "[encoded data removed]",
            "text/plain": [
              "<Figure size 1152x576 with 1 Axes>"
            ]
          },
          "metadata": {
            "tags": [],
            "needs_background": "light"
          }
        }
      ]
    },
    {
      "cell_type": "markdown",
      "metadata": {
        "id": "5cvGAEZi_17D"
      },
      "source": [
        "# Test Set with Unknown outcomes (to be submitted to the competition)"
      ]
    },
    {
      "cell_type": "code",
      "metadata": {
        "colab": {
          "base_uri": "https://localhost:8080/",
          "height": 258
        },
        "id": "KUkYEMmWaQOM",
        "outputId": "c645ba1e-61ae-4058-83d9-ce2771b4b502"
      },
      "source": [
        "df_test = pd.read_csv(\"test_set.csv\")\r\n",
        "df_test.head()"
      ],
      "execution_count": null,
      "outputs": [
        {
          "output_type": "execute_result",
          "data": {
            "text/html": [
              "<div>\n",
              "<style scoped>\n",
              "    .dataframe tbody tr th:only-of-type {\n",
              "        vertical-align: middle;\n",
              "    }\n",
              "\n",
              "    .dataframe tbody tr th {\n",
              "        vertical-align: top;\n",
              "    }\n",
              "\n",
              "    .dataframe thead th {\n",
              "        text-align: right;\n",
              "    }\n",
              "</style>\n",
              "<table border=\"1\" class=\"dataframe\">\n",
              "  <thead>\n",
              "    <tr style=\"text-align: right;\">\n",
              "      <th></th>\n",
              "      <th>employee_id</th>\n",
              "      <th>department</th>\n",
              "      <th>region</th>\n",
              "      <th>education</th>\n",
              "      <th>gender</th>\n",
              "      <th>recruitment_channel</th>\n",
              "      <th>no_of_trainings</th>\n",
              "      <th>age</th>\n",
              "      <th>previous_year_rating</th>\n",
              "      <th>length_of_service</th>\n",
              "      <th>KPIs_met &gt;80%</th>\n",
              "      <th>awards_won?</th>\n",
              "      <th>avg_training_score</th>\n",
              "    </tr>\n",
              "  </thead>\n",
              "  <tbody>\n",
              "    <tr>\n",
              "      <th>0</th>\n",
              "      <td>8724</td>\n",
              "      <td>Technology</td>\n",
              "      <td>region_26</td>\n",
              "      <td>Bachelor's</td>\n",
              "      <td>m</td>\n",
              "      <td>sourcing</td>\n",
              "      <td>1</td>\n",
              "      <td>24</td>\n",
              "      <td>NaN</td>\n",
              "      <td>1</td>\n",
              "      <td>1</td>\n",
              "      <td>0</td>\n",
              "      <td>77</td>\n",
              "    </tr>\n",
              "    <tr>\n",
              "      <th>1</th>\n",
              "      <td>74430</td>\n",
              "      <td>HR</td>\n",
              "      <td>region_4</td>\n",
              "      <td>Bachelor's</td>\n",
              "      <td>f</td>\n",
              "      <td>other</td>\n",
              "      <td>1</td>\n",
              "      <td>31</td>\n",
              "      <td>3.0</td>\n",
              "      <td>5</td>\n",
              "      <td>0</td>\n",
              "      <td>0</td>\n",
              "      <td>51</td>\n",
              "    </tr>\n",
              "    <tr>\n",
              "      <th>2</th>\n",
              "      <td>72255</td>\n",
              "      <td>Sales &amp; Marketing</td>\n",
              "      <td>region_13</td>\n",
              "      <td>Bachelor's</td>\n",
              "      <td>m</td>\n",
              "      <td>other</td>\n",
              "      <td>1</td>\n",
              "      <td>31</td>\n",
              "      <td>1.0</td>\n",
              "      <td>4</td>\n",
              "      <td>0</td>\n",
              "      <td>0</td>\n",
              "      <td>47</td>\n",
              "    </tr>\n",
              "    <tr>\n",
              "      <th>3</th>\n",
              "      <td>38562</td>\n",
              "      <td>Procurement</td>\n",
              "      <td>region_2</td>\n",
              "      <td>Bachelor's</td>\n",
              "      <td>f</td>\n",
              "      <td>other</td>\n",
              "      <td>3</td>\n",
              "      <td>31</td>\n",
              "      <td>2.0</td>\n",
              "      <td>9</td>\n",
              "      <td>0</td>\n",
              "      <td>0</td>\n",
              "      <td>65</td>\n",
              "    </tr>\n",
              "    <tr>\n",
              "      <th>4</th>\n",
              "      <td>64486</td>\n",
              "      <td>Finance</td>\n",
              "      <td>region_29</td>\n",
              "      <td>Bachelor's</td>\n",
              "      <td>m</td>\n",
              "      <td>sourcing</td>\n",
              "      <td>1</td>\n",
              "      <td>30</td>\n",
              "      <td>4.0</td>\n",
              "      <td>7</td>\n",
              "      <td>0</td>\n",
              "      <td>0</td>\n",
              "      <td>61</td>\n",
              "    </tr>\n",
              "  </tbody>\n",
              "</table>\n",
              "</div>"
            ],
            "text/plain": [
              "   employee_id         department     region   education gender  \\\n",
              "0         8724         Technology  region_26  Bachelor's      m   \n",
              "1        74430                 HR   region_4  Bachelor's      f   \n",
              "2        72255  Sales & Marketing  region_13  Bachelor's      m   \n",
              "3        38562        Procurement   region_2  Bachelor's      f   \n",
              "4        64486            Finance  region_29  Bachelor's      m   \n",
              "\n",
              "  recruitment_channel  no_of_trainings  age  previous_year_rating  \\\n",
              "0            sourcing                1   24                   NaN   \n",
              "1               other                1   31                   3.0   \n",
              "2               other                1   31                   1.0   \n",
              "3               other                3   31                   2.0   \n",
              "4            sourcing                1   30                   4.0   \n",
              "\n",
              "   length_of_service  KPIs_met >80%  awards_won?  avg_training_score  \n",
              "0                  1              1            0                  77  \n",
              "1                  5              0            0                  51  \n",
              "2                  4              0            0                  47  \n",
              "3                  9              0            0                  65  \n",
              "4                  7              0            0                  61  "
            ]
          },
          "metadata": {
            "tags": []
          },
          "execution_count": 63
        }
      ]
    },
    {
      "cell_type": "code",
      "metadata": {
        "id": "OKnIgRIgRcdo"
      },
      "source": [
        "df_test = df_test.drop(\"employee_id\",axis=1)"
      ],
      "execution_count": null,
      "outputs": []
    },
    {
      "cell_type": "code",
      "metadata": {
        "id": "TJ1RycZqUnQi"
      },
      "source": [
        "External_X_test_processed = combined_pipe.transform(df_test)"
      ],
      "execution_count": null,
      "outputs": []
    },
    {
      "cell_type": "code",
      "metadata": {
        "colab": {
          "base_uri": "https://localhost:8080/"
        },
        "id": "Uafc4hQs_jWg",
        "outputId": "664710ba-50bd-48fc-beeb-151710af2434"
      },
      "source": [
        "model_cv_gb.predict(External_X_test_processed)"
      ],
      "execution_count": null,
      "outputs": [
        {
          "output_type": "execute_result",
          "data": {
            "text/plain": [
              "array([0, 0, 0, ..., 0, 0, 1])"
            ]
          },
          "metadata": {
            "tags": []
          },
          "execution_count": 66
        }
      ]
    },
    {
      "cell_type": "markdown",
      "metadata": {
        "id": "oU5n9pCkZfjp"
      },
      "source": [
        "# Fin!"
      ]
    }
  ]
}